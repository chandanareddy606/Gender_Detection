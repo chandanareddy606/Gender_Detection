{
  "nbformat": 4,
  "nbformat_minor": 0,
  "metadata": {
    "colab": {
      "name": "Webcam",
      "provenance": [],
      "collapsed_sections": [],
      "mount_file_id": "16jVyzEbSWHYTuPSNpn_MUBT-gzZYWTpb",
      "authorship_tag": "ABX9TyPAEU0zYH7apKysaYRaqmG0",
      "include_colab_link": true
    },
    "kernelspec": {
      "name": "python3",
      "display_name": "Python 3"
    }
  },
  "cells": [
    {
      "cell_type": "markdown",
      "metadata": {
        "id": "view-in-github",
        "colab_type": "text"
      },
      "source": [
        "<a href=\"https://colab.research.google.com/github/chandanareddy606/Gender_Detection/blob/branch/Webcam.ipynb\" target=\"_parent\"><img src=\"https://colab.research.google.com/assets/colab-badge.svg\" alt=\"Open In Colab\"/></a>"
      ]
    },
    {
      "cell_type": "code",
      "metadata": {
        "id": "ulEeOwZ5Wu3v"
      },
      "source": [
        "from IPython.display import display, Javascript\n",
        "from google.colab.output import eval_js\n",
        "from base64 import b64decode, b64encode\n",
        "import numpy as np\n",
        "from PIL import Image"
      ],
      "execution_count": null,
      "outputs": []
    },
    {
      "cell_type": "code",
      "metadata": {
        "id": "QTiGYvbJXJx9"
      },
      "source": [
        "from tensorflow.keras.models import load_model\n",
        "import os\n",
        "import io\n",
        "import cv2"
      ],
      "execution_count": null,
      "outputs": []
    },
    {
      "cell_type": "code",
      "metadata": {
        "id": "OdoGb4TaX0Fi"
      },
      "source": [
        "!pip install git+git://github.com/PnS2019/pnslib.git"
      ],
      "execution_count": null,
      "outputs": []
    },
    {
      "cell_type": "code",
      "metadata": {
        "id": "k53FgRnUX1FD"
      },
      "source": [
        "from pnslib import utils"
      ],
      "execution_count": null,
      "outputs": []
    },
    {
      "cell_type": "code",
      "metadata": {
        "id": "t4Be7am3X1M6"
      },
      "source": [
        "model=load_model('/content/drive/My Drive/Cnn/Gender_Detector.model')\n",
        "model.summary()"
      ],
      "execution_count": null,
      "outputs": []
    },
    {
      "cell_type": "code",
      "metadata": {
        "id": "DeI_JFDzX1Re"
      },
      "source": [
        "model.layers"
      ],
      "execution_count": null,
      "outputs": []
    },
    {
      "cell_type": "code",
      "metadata": {
        "id": "5_AbaRX1X1Wl"
      },
      "source": [
        "def VideoCapture():\n",
        "  js = Javascript('''\n",
        "    async function create(){\n",
        "      div = document.createElement('div');\n",
        "      document.body.appendChild(div);\n",
        "\n",
        "      video = document.createElement('video');\n",
        "      video.setAttribute('playsinline', '');\n",
        "\n",
        "      div.appendChild(video);\n",
        "\n",
        "      stream = await navigator.mediaDevices.getUserMedia({video: {facingMode: \"environment\"}});\n",
        "      video.srcObject = stream;\n",
        "\n",
        "      await video.play();\n",
        "\n",
        "      canvas =  document.createElement('canvas');\n",
        "      canvas.width = video.videoWidth;\n",
        "      canvas.height = video.videoHeight;\n",
        "      canvas.getContext('2d').drawImage(video, 0, 0);\n",
        "\n",
        "      div_out = document.createElement('div');\n",
        "      document.body.appendChild(div_out);\n",
        "      img = document.createElement('img');\n",
        "      div_out.appendChild(img);\n",
        "    }\n",
        "\n",
        "    async function capture(){\n",
        "        return await new Promise(function(resolve, reject){\n",
        "            pendingResolve = resolve;\n",
        "            canvas.getContext('2d').drawImage(video, 0, 0);\n",
        "            result = canvas.toDataURL('image/jpeg', 0.8);\n",
        "            pendingResolve(result);\n",
        "            \n",
        "        })\n",
        "    }\n",
        "\n",
        "    function showimg(imgb64){\n",
        "        img.src = \"data:image/jpg;base64,\" + imgb64;\n",
        "        \n",
        "\n",
        "    }\n",
        "\n",
        "  ''')\n",
        "  display(js)\n",
        "\n",
        "def byte2image(byte):\n",
        "  jpeg = b64decode(byte.split(',')[1])\n",
        "  im = Image.open(io.BytesIO(jpeg))\n",
        "  return np.array(im)\n",
        "\n",
        "def image2byte(image):\n",
        "  image = Image.fromarray(image)\n",
        "  buffer = io.BytesIO()\n",
        "  image.save(buffer, 'jpeg')\n",
        "  buffer.seek(0)\n",
        "  x = b64encode(buffer.read()).decode('utf-8')\n",
        "  return x\n",
        "\n"
      ],
      "execution_count": null,
      "outputs": []
    },
    {
      "cell_type": "code",
      "metadata": {
        "id": "qoEYT3jmYYLI"
      },
      "source": [
        "labels_dict={0:'man',1:'woman'}  ### should be changed according to your model\n",
        "color_dict={0:(0,255,0),1:(0,0,255)}\n",
        "\n",
        "size = 5\n",
        "VideoCapture()\n",
        "eval_js('create()')#Use camera 0\n",
        "\n",
        "# We load the xml file\n",
        "classifier = cv2.CascadeClassifier(utils.get_haarcascade_path('haarcascade_frontalface_default.xml'))\n",
        "\n",
        "while True:\n",
        "    byte = eval_js('capture()')\n",
        "    frame = byte2image(byte)\n",
        "   \n",
        "    # Resize the image to speed up detection\n",
        "    mini = cv2.resize(frame, (frame.shape[1] // size, frame.shape[0] // size))\n",
        "\n",
        "    # detect MultiScale / faces \n",
        "    faces = classifier.detectMultiScale(mini)\n",
        "    for f in faces:\n",
        "        (x, y, w, h) = [v * size for v in f] #Scale the shapesize backup\n",
        "        face_img=frame[y:y+h,x:x+w]     #### frame size of the detection\n",
        "        resized=cv2.resize(face_img,(224,224))   ## Resizing the image\n",
        "        normalized=resized/255.0        #### should be same as the input to conv2d layers other wise throws error\n",
        "        reshaped=np.reshape(normalized,(1,224,224,3))\n",
        "        reshaped = np.vstack([reshaped])\n",
        "        result=model.predict(reshaped)\n",
        "\n",
        "        label=np.argmax(result,axis=1)[0]\n",
        "      \n",
        "        cv2.rectangle(frame,(x,y),(x+w,y+h),color_dict[label],4)\n",
        "        cv2.rectangle(frame,(x,y-40),(x+w,y),color_dict[label],-1)\n",
        "        cv2.putText(frame, labels_dict[label], (x, y-10),cv2.FONT_HERSHEY_SIMPLEX,0.8,(255,255,255),2)\n",
        "\n",
        "    # Show the image\n",
        "    eval_js('showimg(\"{}\")'.format(image2byte(frame)))\n",
        "    key = cv2.waitKey(1)\n",
        "    # if Esc key is press then break out of the loop \n",
        "    if key == 27: #The Esc key\n",
        "        break\n",
        "\n",
        "eval_js('create()').release()    ### have not figured out how to stop a cam when inactive after sometime , so it keep on untill u stop this cell from executing\n",
        "\n",
        "# Close all started windows\n",
        "cv2.destroyAllWindows()"
      ],
      "execution_count": null,
      "outputs": []
    },
    {
      "cell_type": "code",
      "metadata": {
        "id": "QZDv0jc9KnF7"
      },
      "source": [
        ""
      ],
      "execution_count": null,
      "outputs": []
    }
  ]
}