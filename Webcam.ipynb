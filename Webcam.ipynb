{
  "nbformat": 4,
  "nbformat_minor": 0,
  "metadata": {
    "colab": {
      "name": "Webcam",
      "provenance": [],
      "mount_file_id": "16jVyzEbSWHYTuPSNpn_MUBT-gzZYWTpb",
      "authorship_tag": "ABX9TyPAEU0zYH7apKysaYRaqmG0",
      "include_colab_link": true
    },
    "kernelspec": {
      "name": "python3",
      "display_name": "Python 3"
    }
  },
  "cells": [
    {
      "cell_type": "markdown",
      "metadata": {
        "id": "view-in-github",
        "colab_type": "text"
      },
      "source": [
        "<a href=\"https://colab.research.google.com/github/chandanareddy606/Gender_Detection/blob/branch/Webcam.ipynb\" target=\"_parent\"><img src=\"https://colab.research.google.com/assets/colab-badge.svg\" alt=\"Open In Colab\"/></a>"
      ]
    },
    {
      "cell_type": "code",
      "metadata": {
        "id": "ulEeOwZ5Wu3v"
      },
      "source": [
        "from IPython.display import display, Javascript\n",
        "from google.colab.output import eval_js\n",
        "from base64 import b64decode, b64encode\n",
        "import numpy as np\n",
        "from PIL import Image"
      ],
      "execution_count": null,
      "outputs": []
    },
    {
      "cell_type": "code",
      "metadata": {
        "id": "QTiGYvbJXJx9"
      },
      "source": [
        "from tensorflow.keras.models import load_model\n",
        "import os\n",
        "import io\n",
        "import cv2"
      ],
      "execution_count": null,
      "outputs": []
    },
    {
      "cell_type": "code",
      "metadata": {
        "id": "OdoGb4TaX0Fi",
        "outputId": "3da019bd-9e5c-4033-a740-fb935d56dab6",
        "colab": {
          "base_uri": "https://localhost:8080/",
          "height": 258
        }
      },
      "source": [
        "!pip install git+git://github.com/PnS2019/pnslib.git"
      ],
      "execution_count": null,
      "outputs": [
        {
          "output_type": "stream",
          "text": [
            "Collecting git+git://github.com/PnS2019/pnslib.git\n",
            "  Cloning git://github.com/PnS2019/pnslib.git to /tmp/pip-req-build-zlawrf_9\n",
            "  Running command git clone -q git://github.com/PnS2019/pnslib.git /tmp/pip-req-build-zlawrf_9\n",
            "Requirement already satisfied: numpy in /usr/local/lib/python3.6/dist-packages (from pnslib==0.1.0a1) (1.18.5)\n",
            "Requirement already satisfied: scipy in /usr/local/lib/python3.6/dist-packages (from pnslib==0.1.0a1) (1.4.1)\n",
            "Requirement already satisfied: future in /usr/local/lib/python3.6/dist-packages (from pnslib==0.1.0a1) (0.16.0)\n",
            "Building wheels for collected packages: pnslib\n",
            "  Building wheel for pnslib (setup.py) ... \u001b[?25l\u001b[?25hdone\n",
            "  Created wheel for pnslib: filename=pnslib-0.1.0a1-cp36-none-any.whl size=1489619 sha256=110c357fde73257833ab786b271164708e79fbaac8e5b630e9d47e32774f0df7\n",
            "  Stored in directory: /tmp/pip-ephem-wheel-cache-swu82tk8/wheels/a2/8e/a9/c62e72840009deaa723b3a113d5c3b90acac77098d16e90eca\n",
            "Successfully built pnslib\n",
            "Installing collected packages: pnslib\n",
            "Successfully installed pnslib-0.1.0a1\n"
          ],
          "name": "stdout"
        }
      ]
    },
    {
      "cell_type": "code",
      "metadata": {
        "id": "k53FgRnUX1FD"
      },
      "source": [
        "from pnslib import utils"
      ],
      "execution_count": null,
      "outputs": []
    },
    {
      "cell_type": "code",
      "metadata": {
        "id": "t4Be7am3X1M6",
        "outputId": "fd9078e3-a2aa-40e9-8e1a-2aeee883b462",
        "colab": {
          "base_uri": "https://localhost:8080/",
          "height": 1000
        }
      },
      "source": [
        "model=load_model('/content/drive/My Drive/Cnn/Gender_Detector.model')\n",
        "model.summary()"
      ],
      "execution_count": null,
      "outputs": [
        {
          "output_type": "stream",
          "text": [
            "Model: \"sequential\"\n",
            "_________________________________________________________________\n",
            "Layer (type)                 Output Shape              Param #   \n",
            "=================================================================\n",
            "conv2d (Conv2D)              (None, 224, 224, 32)      896       \n",
            "_________________________________________________________________\n",
            "activation (Activation)      (None, 224, 224, 32)      0         \n",
            "_________________________________________________________________\n",
            "batch_normalization (BatchNo (None, 224, 224, 32)      128       \n",
            "_________________________________________________________________\n",
            "max_pooling2d (MaxPooling2D) (None, 74, 74, 32)        0         \n",
            "_________________________________________________________________\n",
            "dropout (Dropout)            (None, 74, 74, 32)        0         \n",
            "_________________________________________________________________\n",
            "conv2d_1 (Conv2D)            (None, 74, 74, 64)        18496     \n",
            "_________________________________________________________________\n",
            "activation_1 (Activation)    (None, 74, 74, 64)        0         \n",
            "_________________________________________________________________\n",
            "batch_normalization_1 (Batch (None, 74, 74, 64)        256       \n",
            "_________________________________________________________________\n",
            "conv2d_2 (Conv2D)            (None, 74, 74, 64)        36928     \n",
            "_________________________________________________________________\n",
            "activation_2 (Activation)    (None, 74, 74, 64)        0         \n",
            "_________________________________________________________________\n",
            "batch_normalization_2 (Batch (None, 74, 74, 64)        256       \n",
            "_________________________________________________________________\n",
            "max_pooling2d_1 (MaxPooling2 (None, 37, 37, 64)        0         \n",
            "_________________________________________________________________\n",
            "dropout_1 (Dropout)          (None, 37, 37, 64)        0         \n",
            "_________________________________________________________________\n",
            "conv2d_3 (Conv2D)            (None, 37, 37, 128)       73856     \n",
            "_________________________________________________________________\n",
            "activation_3 (Activation)    (None, 37, 37, 128)       0         \n",
            "_________________________________________________________________\n",
            "batch_normalization_3 (Batch (None, 37, 37, 128)       512       \n",
            "_________________________________________________________________\n",
            "conv2d_4 (Conv2D)            (None, 37, 37, 128)       147584    \n",
            "_________________________________________________________________\n",
            "activation_4 (Activation)    (None, 37, 37, 128)       0         \n",
            "_________________________________________________________________\n",
            "batch_normalization_4 (Batch (None, 37, 37, 128)       512       \n",
            "_________________________________________________________________\n",
            "max_pooling2d_2 (MaxPooling2 (None, 18, 18, 128)       0         \n",
            "_________________________________________________________________\n",
            "dropout_2 (Dropout)          (None, 18, 18, 128)       0         \n",
            "_________________________________________________________________\n",
            "flatten (Flatten)            (None, 41472)             0         \n",
            "_________________________________________________________________\n",
            "dense (Dense)                (None, 1024)              42468352  \n",
            "_________________________________________________________________\n",
            "activation_5 (Activation)    (None, 1024)              0         \n",
            "_________________________________________________________________\n",
            "batch_normalization_5 (Batch (None, 1024)              4096      \n",
            "_________________________________________________________________\n",
            "dropout_3 (Dropout)          (None, 1024)              0         \n",
            "_________________________________________________________________\n",
            "dense_1 (Dense)              (None, 2)                 2050      \n",
            "_________________________________________________________________\n",
            "activation_6 (Activation)    (None, 2)                 0         \n",
            "=================================================================\n",
            "Total params: 42,753,922\n",
            "Trainable params: 42,751,042\n",
            "Non-trainable params: 2,880\n",
            "_________________________________________________________________\n"
          ],
          "name": "stdout"
        }
      ]
    },
    {
      "cell_type": "code",
      "metadata": {
        "id": "DeI_JFDzX1Re",
        "outputId": "b2c724d5-8d09-4749-eb1b-3e5bd26b335f",
        "colab": {
          "base_uri": "https://localhost:8080/",
          "height": 493
        }
      },
      "source": [
        "model.layers"
      ],
      "execution_count": null,
      "outputs": [
        {
          "output_type": "execute_result",
          "data": {
            "text/plain": [
              "[<tensorflow.python.keras.layers.convolutional.Conv2D at 0x7fcd811db978>,\n",
              " <tensorflow.python.keras.layers.core.Activation at 0x7fcd811dbc50>,\n",
              " <tensorflow.python.keras.layers.normalization_v2.BatchNormalization at 0x7fcd811dbf60>,\n",
              " <tensorflow.python.keras.layers.pooling.MaxPooling2D at 0x7fcd811a0b70>,\n",
              " <tensorflow.python.keras.layers.core.Dropout at 0x7fcd7ac1a5c0>,\n",
              " <tensorflow.python.keras.layers.convolutional.Conv2D at 0x7fcd7ac21d30>,\n",
              " <tensorflow.python.keras.layers.core.Activation at 0x7fcd7ac35588>,\n",
              " <tensorflow.python.keras.layers.normalization_v2.BatchNormalization at 0x7fcd7ac35c88>,\n",
              " <tensorflow.python.keras.layers.convolutional.Conv2D at 0x7fcd8a9a4278>,\n",
              " <tensorflow.python.keras.layers.core.Activation at 0x7fcd8acee2b0>,\n",
              " <tensorflow.python.keras.layers.normalization_v2.BatchNormalization at 0x7fcd8acee0f0>,\n",
              " <tensorflow.python.keras.layers.pooling.MaxPooling2D at 0x7fcd8ad4c748>,\n",
              " <tensorflow.python.keras.layers.core.Dropout at 0x7fcd8ada3ac8>,\n",
              " <tensorflow.python.keras.layers.convolutional.Conv2D at 0x7fcd8d1d0780>,\n",
              " <tensorflow.python.keras.layers.core.Activation at 0x7fcd8d852320>,\n",
              " <tensorflow.python.keras.layers.normalization_v2.BatchNormalization at 0x7fcd8acef198>,\n",
              " <tensorflow.python.keras.layers.convolutional.Conv2D at 0x7fcd7abe33c8>,\n",
              " <tensorflow.python.keras.layers.core.Activation at 0x7fcd7abf8a90>,\n",
              " <tensorflow.python.keras.layers.normalization_v2.BatchNormalization at 0x7fcd7abfd780>,\n",
              " <tensorflow.python.keras.layers.pooling.MaxPooling2D at 0x7fcd7ac07358>,\n",
              " <tensorflow.python.keras.layers.core.Dropout at 0x7fcd7ac0fac8>,\n",
              " <tensorflow.python.keras.layers.core.Flatten at 0x7fcd7ab9f6d8>,\n",
              " <tensorflow.python.keras.layers.core.Dense at 0x7fcd7ab9fe80>,\n",
              " <tensorflow.python.keras.layers.core.Activation at 0x7fcd7abb1320>,\n",
              " <tensorflow.python.keras.layers.normalization_v2.BatchNormalization at 0x7fcd7abb13c8>,\n",
              " <tensorflow.python.keras.layers.core.Dropout at 0x7fcd7abb9240>,\n",
              " <tensorflow.python.keras.layers.core.Dense at 0x7fcd7abb9320>,\n",
              " <tensorflow.python.keras.layers.core.Activation at 0x7fcd7ab655c0>]"
            ]
          },
          "metadata": {
            "tags": []
          },
          "execution_count": 8
        }
      ]
    },
    {
      "cell_type": "code",
      "metadata": {
        "id": "5_AbaRX1X1Wl"
      },
      "source": [
        "def VideoCapture():\n",
        "  js = Javascript('''\n",
        "    async function create(){\n",
        "      div = document.createElement('div');\n",
        "      document.body.appendChild(div);\n",
        "\n",
        "      video = document.createElement('video');\n",
        "      video.setAttribute('playsinline', '');\n",
        "\n",
        "      div.appendChild(video);\n",
        "\n",
        "      stream = await navigator.mediaDevices.getUserMedia({video: {facingMode: \"environment\"}});\n",
        "      video.srcObject = stream;\n",
        "\n",
        "      await video.play();\n",
        "\n",
        "      canvas =  document.createElement('canvas');\n",
        "      canvas.width = video.videoWidth;\n",
        "      canvas.height = video.videoHeight;\n",
        "      canvas.getContext('2d').drawImage(video, 0, 0);\n",
        "\n",
        "      div_out = document.createElement('div');\n",
        "      document.body.appendChild(div_out);\n",
        "      img = document.createElement('img');\n",
        "      div_out.appendChild(img);\n",
        "    }\n",
        "\n",
        "    async function capture(){\n",
        "        return await new Promise(function(resolve, reject){\n",
        "            pendingResolve = resolve;\n",
        "            canvas.getContext('2d').drawImage(video, 0, 0);\n",
        "            result = canvas.toDataURL('image/jpeg', 0.8);\n",
        "            pendingResolve(result);\n",
        "            \n",
        "        })\n",
        "    }\n",
        "\n",
        "    function showimg(imgb64){\n",
        "        img.src = \"data:image/jpg;base64,\" + imgb64;\n",
        "        \n",
        "\n",
        "    }\n",
        "\n",
        "  ''')\n",
        "  display(js)\n",
        "\n",
        "def byte2image(byte):\n",
        "  jpeg = b64decode(byte.split(',')[1])\n",
        "  im = Image.open(io.BytesIO(jpeg))\n",
        "  return np.array(im)\n",
        "\n",
        "def image2byte(image):\n",
        "  image = Image.fromarray(image)\n",
        "  buffer = io.BytesIO()\n",
        "  image.save(buffer, 'jpeg')\n",
        "  buffer.seek(0)\n",
        "  x = b64encode(buffer.read()).decode('utf-8')\n",
        "  return x\n",
        "\n"
      ],
      "execution_count": null,
      "outputs": []
    },
    {
      "cell_type": "code",
      "metadata": {
        "id": "qoEYT3jmYYLI"
      },
      "source": [
        "labels_dict={0:'man',1:'woman'}  ### should be changed according to your model\n",
        "color_dict={0:(0,255,0),1:(0,0,255)}\n",
        "\n",
        "size = 5\n",
        "VideoCapture()\n",
        "eval_js('create()')#Use camera 0\n",
        "\n",
        "# We load the xml file\n",
        "classifier = cv2.CascadeClassifier(utils.get_haarcascade_path('haarcascade_frontalface_default.xml'))\n",
        "\n",
        "while True:\n",
        "    byte = eval_js('capture()')\n",
        "    frame = byte2image(byte)\n",
        "   \n",
        "    # Resize the image to speed up detection\n",
        "    mini = cv2.resize(frame, (frame.shape[1] // size, frame.shape[0] // size))\n",
        "\n",
        "    # detect MultiScale / faces \n",
        "    faces = classifier.detectMultiScale(mini)\n",
        "    for f in faces:\n",
        "        (x, y, w, h) = [v * size for v in f] #Scale the shapesize backup\n",
        "        face_img=frame[y:y+h,x:x+w]     #### frame size of the detection\n",
        "        resized=cv2.resize(face_img,(224,224))   ## Resizing the image\n",
        "        normalized=resized/255.0        #### should be same as the input to conv2d layers other wise throws error\n",
        "        reshaped=np.reshape(normalized,(1,224,224,3))\n",
        "        reshaped = np.vstack([reshaped])\n",
        "        result=model.predict(reshaped)\n",
        "\n",
        "        label=np.argmax(result,axis=1)[0]\n",
        "      \n",
        "        cv2.rectangle(frame,(x,y),(x+w,y+h),color_dict[label],4)\n",
        "        cv2.rectangle(frame,(x,y-40),(x+w,y),color_dict[label],-1)\n",
        "        cv2.putText(frame, labels_dict[label], (x, y-10),cv2.FONT_HERSHEY_SIMPLEX,0.8,(255,255,255),2)\n",
        "\n",
        "    # Show the image\n",
        "    eval_js('showimg(\"{}\")'.format(image2byte(frame)))\n",
        "    key = cv2.waitKey(1)\n",
        "    # if Esc key is press then break out of the loop \n",
        "    if key == 27: #The Esc key\n",
        "        break\n",
        "\n",
        "eval_js('create()').release()    ### have not figured out how to stop a cam when inactive after sometime , so it keep on untill u stop this cell from executing\n",
        "\n",
        "# Close all started windows\n",
        "cv2.destroyAllWindows()"
      ],
      "execution_count": null,
      "outputs": []
    },
    {
      "cell_type": "code",
      "metadata": {
        "id": "QZDv0jc9KnF7"
      },
      "source": [
        ""
      ],
      "execution_count": null,
      "outputs": []
    }
  ]
}